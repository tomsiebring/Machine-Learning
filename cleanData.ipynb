{
 "cells": [
  {
   "cell_type": "markdown",
   "metadata": {},
   "source": [
    "# Notes\n",
    "\n",
    "Clean filtered data. Fields can easily be copied to top of analysis notebooks.\n"
   ]
  },
  {
   "cell_type": "code",
   "execution_count": 1,
   "metadata": {},
   "outputs": [],
   "source": [
    "import pandas as pd\n",
    "train_identity = pd.read_csv('Data/train_identity.csv',index_col='TransactionID')\n",
    "train_transaction = pd.read_csv('Data/train_transaction.csv',index_col='TransactionID')\n",
    "train_transaction = train_transaction.merge(train_identity, how='left', left_index=True, right_index=True)"
   ]
  },
  {
   "cell_type": "code",
   "execution_count": 5,
   "metadata": {},
   "outputs": [],
   "source": [
    "# filter columns using threshold of maximum 20% NAs in column\n",
    "threshold = 0.2\n",
    "train_transaction_selection = pd.DataFrame()\n",
    "for colName in train_transaction:\n",
    "    naCountColumn = train_transaction[colName].isna().sum()/len(train_transaction)\n",
    "    if (naCountColumn < threshold):\n",
    "        train_transaction_selection[colName] = train_transaction[colName]\n",
    "train_transaction = train_transaction_selection"
   ]
  },
  {
   "cell_type": "code",
   "execution_count": 39,
   "metadata": {},
   "outputs": [],
   "source": [
    "# !! Choose policy for filling NAs. Option 1 uses mode, Option 2 uses -999\n",
    "\n",
    "\n",
    "# Option 1\n",
    "for colName in train_transaction_selection:\n",
    "    train_transaction_selection.loc[:, (colName)].fillna(train_transaction_selection[colName].mode().iloc[0], inplace = True)\n",
    "\n",
    "\n",
    "# Option 2\n",
    "train_transaction.fillna(-999, inplace=True)\n",
    "\n"
   ]
  }
 ],
 "metadata": {
  "kernelspec": {
   "display_name": "Python 3",
   "language": "python",
   "name": "python3"
  },
  "language_info": {
   "codemirror_mode": {
    "name": "ipython",
    "version": 3
   },
   "file_extension": ".py",
   "mimetype": "text/x-python",
   "name": "python",
   "nbconvert_exporter": "python",
   "pygments_lexer": "ipython3",
   "version": "3.8.1"
  }
 },
 "nbformat": 4,
 "nbformat_minor": 4
}
